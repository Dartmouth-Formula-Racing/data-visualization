{
 "cells": [
  {
   "cell_type": "code",
   "execution_count": 16,
   "metadata": {
    "collapsed": false,
    "pycharm": {
     "name": "#%%\n"
    }
   },
   "outputs": [],
   "source": [
    "import pandas as pd\n",
    "from candecoder import decode_message_by_id"
   ]
  },
  {
   "cell_type": "code",
   "execution_count": 17,
   "metadata": {
    "collapsed": true,
    "pycharm": {
     "name": "#%%\n"
    }
   },
   "outputs": [],
   "source": [
    "\n",
    "# opening and reading data from records.csv file\n",
    "data = pd.read_csv('./records.csv')"
   ]
  },
  {
   "cell_type": "code",
   "execution_count": 18,
   "metadata": {
    "collapsed": false,
    "pycharm": {
     "name": "#%%\n"
    }
   },
   "outputs": [],
   "source": [
    "\n",
    "# creates column titles\n",
    "header = ['Timestamp', 'Variable', 'Value', 'Units']\n",
    "\n",
    "# replaces square brackets and single quotes for correct formatting and type conversions\n",
    "\n",
    "processed_data = pd.DataFrame(columns=header)\n",
    "\n",
    "required_cols = [\"rawtime\"] + [\"id\"] + [f\"data{n}\" for n in range(0, 8)]"
   ]
  },
  {
   "cell_type": "code",
   "execution_count": 19,
   "metadata": {
    "collapsed": false,
    "pycharm": {
     "name": "#%%\n"
    }
   },
   "outputs": [],
   "source": [
    "from datetime import timedelta, datetime\n",
    "\n",
    "\n",
    "def extractDateInfo(rawtime):\n",
    "    days = timedelta(days=rawtime)\n",
    "    date = datetime(year=1899, month=12, day=30) + days\n",
    "    return pd.to_datetime(date)"
   ]
  },
  {
   "cell_type": "code",
   "execution_count": null,
   "metadata": {
    "collapsed": false,
    "pycharm": {
     "name": "#%%\n"
    }
   },
   "outputs": [],
   "source": []
  },
  {
   "cell_type": "code",
   "execution_count": 20,
   "metadata": {
    "collapsed": false,
    "pycharm": {
     "name": "#%%\n"
    }
   },
   "outputs": [],
   "source": [
    "from ast import literal_eval\n",
    "def map_row(rawtime, id, *hex_bytes):\n",
    "    try:\n",
    "        data_bytes = [int(hex_byte, 16) for hex_byte in hex_bytes]\n",
    "        values = decode_message_by_id(id, data_bytes)\n",
    "        ret_values = pd.DataFrame(columns=header)\n",
    "        for variable, value in values.items():\n",
    "            if type(value) == tuple:\n",
    "                ret_values.loc[len(ret_values)] = {\n",
    "                    \"Timestamp\": extractDateInfo(rawtime),\n",
    "                    \"Variable\": variable,\n",
    "                    \"Value\": value[0],\n",
    "                    \"Units\": value[1]\n",
    "                }\n",
    "            else:\n",
    "                ret_values.loc[len(ret_values)] = {\n",
    "                    \"Timestamp\": extractDateInfo(rawtime),\n",
    "                    \"Variable\": variable,\n",
    "                    \"Value\": value,\n",
    "                    \"Units\": None\n",
    "                }\n",
    "        return ret_values\n",
    "    except:\n",
    "        return None"
   ]
  },
  {
   "cell_type": "code",
   "execution_count": 21,
   "metadata": {},
   "outputs": [],
   "source": [
    "data_cut = data.iloc[:1000]"
   ]
  },
  {
   "cell_type": "code",
   "execution_count": 22,
   "metadata": {
    "collapsed": false,
    "pycharm": {
     "is_executing": true,
     "name": "#%%\n"
    }
   },
   "outputs": [],
   "source": [
    "#from tqdm.notebook import tqdm\n",
    "\n",
    "#dfs = [map_row(*row) for row in tqdm(zip(*[data_cut[col] for col in required_cols]))]\n",
    "#dfs = [map_row(*row) for row in [data_cut[col] for col in required_cols] ]\n",
    "\n",
    "#data_cut.head()\n",
    "dfs = [map_row(*row) for row in zip(*[data_cut[col] for col in required_cols]) ]\n",
    "\n",
    "# if packet is not None for row in map_row(*[packet[field] for field in range(len(required_cols))])]"
   ]
  },
  {
   "cell_type": "code",
   "execution_count": 23,
   "metadata": {},
   "outputs": [],
   "source": [
    "dfs = pd.concat(dfs)"
   ]
  },
  {
   "cell_type": "code",
   "execution_count": 25,
   "metadata": {
    "collapsed": false,
    "pycharm": {
     "name": "#%%\n"
    }
   },
   "outputs": [
    {
     "data": {
      "text/html": [
       "<div>\n",
       "<style scoped>\n",
       "    .dataframe tbody tr th:only-of-type {\n",
       "        vertical-align: middle;\n",
       "    }\n",
       "\n",
       "    .dataframe tbody tr th {\n",
       "        vertical-align: top;\n",
       "    }\n",
       "\n",
       "    .dataframe thead th {\n",
       "        text-align: right;\n",
       "    }\n",
       "</style>\n",
       "<table border=\"1\" class=\"dataframe\">\n",
       "  <thead>\n",
       "    <tr style=\"text-align: right;\">\n",
       "      <th></th>\n",
       "      <th>Timestamp</th>\n",
       "      <th>Variable</th>\n",
       "      <th>Value</th>\n",
       "      <th>Units</th>\n",
       "    </tr>\n",
       "  </thead>\n",
       "  <tbody>\n",
       "    <tr>\n",
       "      <th>0</th>\n",
       "      <td>2023-02-27 18:24:36.203302</td>\n",
       "      <td>Inverter2_Modulation_Index_&amp;_Flux_Weakening_Ou...</td>\n",
       "      <td>0.02</td>\n",
       "      <td>None</td>\n",
       "    </tr>\n",
       "    <tr>\n",
       "      <th>1</th>\n",
       "      <td>2023-02-27 18:24:36.203302</td>\n",
       "      <td>Inverter2_Modulation_Index_&amp;_Flux_Weakening_Ou...</td>\n",
       "      <td>0.00</td>\n",
       "      <td>amps</td>\n",
       "    </tr>\n",
       "    <tr>\n",
       "      <th>2</th>\n",
       "      <td>2023-02-27 18:24:36.203302</td>\n",
       "      <td>Inverter2_Modulation_Index_&amp;_Flux_Weakening_Ou...</td>\n",
       "      <td>0.00</td>\n",
       "      <td>0</td>\n",
       "    </tr>\n",
       "    <tr>\n",
       "      <th>3</th>\n",
       "      <td>2023-02-27 18:24:36.203302</td>\n",
       "      <td>Inverter2_Modulation_Index_&amp;_Flux_Weakening_Ou...</td>\n",
       "      <td>0.00</td>\n",
       "      <td>None</td>\n",
       "    </tr>\n",
       "    <tr>\n",
       "      <th>0</th>\n",
       "      <td>2023-02-27 18:24:36.203502</td>\n",
       "      <td>Inverter2_Torque_&amp;_Timer_Information_Commanded...</td>\n",
       "      <td>0.00</td>\n",
       "      <td>N-m</td>\n",
       "    </tr>\n",
       "    <tr>\n",
       "      <th>...</th>\n",
       "      <td>...</td>\n",
       "      <td>...</td>\n",
       "      <td>...</td>\n",
       "      <td>...</td>\n",
       "    </tr>\n",
       "    <tr>\n",
       "      <th>52</th>\n",
       "      <td>2023-02-27 18:24:36.882902</td>\n",
       "      <td>Inverter1_Fault_Codes_Current Sensor Fault</td>\n",
       "      <td>0.00</td>\n",
       "      <td>None</td>\n",
       "    </tr>\n",
       "    <tr>\n",
       "      <th>53</th>\n",
       "      <td>2023-02-27 18:24:36.882902</td>\n",
       "      <td>Inverter1_Fault_Codes_Gen 3: Reserved / Gen 5:...</td>\n",
       "      <td>0.00</td>\n",
       "      <td>None</td>\n",
       "    </tr>\n",
       "    <tr>\n",
       "      <th>54</th>\n",
       "      <td>2023-02-27 18:24:36.882902</td>\n",
       "      <td>Inverter1_Fault_Codes_Gen 3: Hardware DC Bus O...</td>\n",
       "      <td>0.00</td>\n",
       "      <td>None</td>\n",
       "    </tr>\n",
       "    <tr>\n",
       "      <th>55</th>\n",
       "      <td>2023-02-27 18:24:36.882902</td>\n",
       "      <td>Inverter1_Fault_Codes_Gen 3: Reserved / Gen 5:...</td>\n",
       "      <td>0.00</td>\n",
       "      <td>None</td>\n",
       "    </tr>\n",
       "    <tr>\n",
       "      <th>56</th>\n",
       "      <td>2023-02-27 18:24:36.882902</td>\n",
       "      <td>Inverter1_Fault_Codes_Resolved Not Connected</td>\n",
       "      <td>0.00</td>\n",
       "      <td>None</td>\n",
       "    </tr>\n",
       "  </tbody>\n",
       "</table>\n",
       "<p>6050 rows × 4 columns</p>\n",
       "</div>"
      ],
      "text/plain": [
       "                    Timestamp  \\\n",
       "0  2023-02-27 18:24:36.203302   \n",
       "1  2023-02-27 18:24:36.203302   \n",
       "2  2023-02-27 18:24:36.203302   \n",
       "3  2023-02-27 18:24:36.203302   \n",
       "0  2023-02-27 18:24:36.203502   \n",
       "..                        ...   \n",
       "52 2023-02-27 18:24:36.882902   \n",
       "53 2023-02-27 18:24:36.882902   \n",
       "54 2023-02-27 18:24:36.882902   \n",
       "55 2023-02-27 18:24:36.882902   \n",
       "56 2023-02-27 18:24:36.882902   \n",
       "\n",
       "                                             Variable  Value Units  \n",
       "0   Inverter2_Modulation_Index_&_Flux_Weakening_Ou...   0.02  None  \n",
       "1   Inverter2_Modulation_Index_&_Flux_Weakening_Ou...   0.00  amps  \n",
       "2   Inverter2_Modulation_Index_&_Flux_Weakening_Ou...   0.00     0  \n",
       "3   Inverter2_Modulation_Index_&_Flux_Weakening_Ou...   0.00  None  \n",
       "0   Inverter2_Torque_&_Timer_Information_Commanded...   0.00   N-m  \n",
       "..                                                ...    ...   ...  \n",
       "52         Inverter1_Fault_Codes_Current Sensor Fault   0.00  None  \n",
       "53  Inverter1_Fault_Codes_Gen 3: Reserved / Gen 5:...   0.00  None  \n",
       "54  Inverter1_Fault_Codes_Gen 3: Hardware DC Bus O...   0.00  None  \n",
       "55  Inverter1_Fault_Codes_Gen 3: Reserved / Gen 5:...   0.00  None  \n",
       "56       Inverter1_Fault_Codes_Resolved Not Connected   0.00  None  \n",
       "\n",
       "[6050 rows x 4 columns]"
      ]
     },
     "execution_count": 25,
     "metadata": {},
     "output_type": "execute_result"
    }
   ],
   "source": [
    "#dfs.to_csv(\"./processed_records.csv\")\n",
    "dfs"
   ]
  },
  {
   "cell_type": "code",
   "execution_count": null,
   "metadata": {},
   "outputs": [],
   "source": []
  }
 ],
 "metadata": {
  "kernelspec": {
   "display_name": "Python 3",
   "language": "python",
   "name": "python3"
  },
  "language_info": {
   "codemirror_mode": {
    "name": "ipython",
    "version": 3
   },
   "file_extension": ".py",
   "mimetype": "text/x-python",
   "name": "python",
   "nbconvert_exporter": "python",
   "pygments_lexer": "ipython3",
   "version": "3.9.12"
  }
 },
 "nbformat": 4,
 "nbformat_minor": 0
}
