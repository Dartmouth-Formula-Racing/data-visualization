{
 "cells": [
  {
   "cell_type": "code",
   "execution_count": null,
   "outputs": [],
   "source": [
    "import pandas as pd\n",
    "from candecoder import decode_message_by_id"
   ],
   "metadata": {
    "collapsed": false,
    "pycharm": {
     "name": "#%%\n"
    }
   }
  },
  {
   "cell_type": "code",
   "execution_count": 29,
   "metadata": {
    "collapsed": true,
    "pycharm": {
     "name": "#%%\n"
    }
   },
   "outputs": [],
   "source": [
    "\n",
    "# opening and reading data from records.csv file\n",
    "data = pd.read_csv('./records.csv')"
   ]
  },
  {
   "cell_type": "code",
   "execution_count": 30,
   "outputs": [],
   "source": [
    "\n",
    "# creates column titles\n",
    "header = ['Timestamp', 'Variable', 'Value', 'Units']\n",
    "\n",
    "# replaces square brackets and single quotes for correct formatting and type conversions\n",
    "\n",
    "processed_data = pd.DataFrame(columns=header)"
   ],
   "metadata": {
    "collapsed": false,
    "pycharm": {
     "name": "#%%\n"
    }
   }
  },
  {
   "cell_type": "code",
   "execution_count": 31,
   "outputs": [],
   "source": [
    "from datetime import timedelta, datetime\n",
    "\n",
    "\n",
    "def extractDateInfo(rawtime):\n",
    "    days = timedelta(days=rawtime)\n",
    "    date = datetime(year=1899, month=12, day=30) + days\n",
    "    return pd.to_datetime(date)"
   ],
   "metadata": {
    "collapsed": false,
    "pycharm": {
     "name": "#%%\n"
    }
   }
  },
  {
   "cell_type": "code",
   "execution_count": 32,
   "outputs": [
    {
     "name": "stdout",
     "output_type": "stream",
     "text": [
      "<class 'pandas.core.frame.DataFrame'>\n",
      "RangeIndex: 3502594 entries, 0 to 3502593\n",
      "Data columns (total 22 columns):\n",
      " #   Column       Dtype  \n",
      "---  ------       -----  \n",
      " 0   Unnamed: 0   int64  \n",
      " 1   time         float64\n",
      " 2   type         object \n",
      " 3   id           object \n",
      " 4   dlc          int64  \n",
      " 5   data0        object \n",
      " 6   data1        object \n",
      " 7   data2        object \n",
      " 8   data3        object \n",
      " 9   data4        object \n",
      " 10  data5        object \n",
      " 11  data6        object \n",
      " 12  data7        object \n",
      " 13  filename     object \n",
      " 14  rawtime      float64\n",
      " 15  year         object \n",
      " 16  month        object \n",
      " 17  day          object \n",
      " 18  hour         object \n",
      " 19  minute       object \n",
      " 20  second       object \n",
      " 21  microsecond  object \n",
      "dtypes: float64(2), int64(2), object(18)\n",
      "memory usage: 587.9+ MB\n"
     ]
    }
   ],
   "source": [
    "data.info()"
   ],
   "metadata": {
    "collapsed": false,
    "pycharm": {
     "name": "#%%\n"
    }
   }
  },
  {
   "cell_type": "code",
   "execution_count": 33,
   "outputs": [
    {
     "data": {
      "text/plain": "['rawtime',\n 'id',\n 'data0',\n 'data1',\n 'data2',\n 'data3',\n 'data4',\n 'data5',\n 'data6',\n 'data7']"
     },
     "execution_count": 33,
     "metadata": {},
     "output_type": "execute_result"
    }
   ],
   "source": [
    "required_cols = [\"rawtime\"] + [\"id\"] + [f\"data{n}\" for n in range(0, 8)]\n",
    "required_cols"
   ],
   "metadata": {
    "collapsed": false,
    "pycharm": {
     "name": "#%%\n"
    }
   }
  },
  {
   "cell_type": "code",
   "execution_count": 34,
   "outputs": [],
   "source": [
    "from ast import literal_eval\n",
    "def map_row(rawtime, id, *hex_bytes):\n",
    "    try:\n",
    "        data_bytes = [int(hex_byte, 16) for hex_byte in hex_bytes]\n",
    "        values = decode_message_by_id(id, data_bytes)\n",
    "        ret_values = pd.DataFrame(columns=header)\n",
    "        for variable, value in values.items():\n",
    "            if type(value) == tuple:\n",
    "                ret_values.loc[len(ret_values)] = {\n",
    "                    \"Timestamp\": extractDateInfo(rawtime),\n",
    "                    \"Variable\": variable,\n",
    "                    \"Value\": value[0],\n",
    "                    \"Units\": value[1]\n",
    "                }\n",
    "            else:\n",
    "                ret_values.loc[len(ret_values)] = {\n",
    "                    \"Timestamp\": extractDateInfo(rawtime),\n",
    "                    \"Variable\": variable,\n",
    "                    \"Value\": value,\n",
    "                    \"Units\": None\n",
    "                }\n",
    "        return ret_values\n",
    "    except:\n",
    "        return None"
   ],
   "metadata": {
    "collapsed": false,
    "pycharm": {
     "name": "#%%\n"
    }
   }
  },
  {
   "cell_type": "code",
   "execution_count": null,
   "outputs": [
    {
     "data": {
      "text/plain": "0it [00:00, ?it/s]",
      "application/vnd.jupyter.widget-view+json": {
       "version_major": 2,
       "version_minor": 0,
       "model_id": "19dfe33dd61f4b1386cc9cdf926ab070"
      }
     },
     "metadata": {},
     "output_type": "display_data"
    }
   ],
   "source": [
    "from tqdm.notebook import tqdm\n",
    "dfs = [map_row(*row) for row in tqdm(zip(*[data[col] for col in required_cols]))]\n",
    "\n",
    "# if packet is not None for row in map_row(*[packet[field] for field in range(len(required_cols))])]"
   ],
   "metadata": {
    "collapsed": false,
    "pycharm": {
     "name": "#%%\n",
     "is_executing": true
    }
   }
  },
  {
   "cell_type": "code",
   "execution_count": null,
   "outputs": [],
   "source": [
    "\n",
    "for idx, row in tqdm(data.iterrows()):\n",
    "    try:\n",
    "        data_bytes = [int(row[f\"data{n}\"], 16) for n in range(0, 8)]\n",
    "        values = decode_message_by_id(row[\"id\"], data_bytes)\n",
    "        for variable, value in values.items():\n",
    "            processed_data.loc[len(processed_data)] = {\n",
    "                \"Timestamp\": extractDateInfo(row[\"rawtime\"]),\n",
    "                \"Variable\": variable,\n",
    "                \"Value\": value\n",
    "            }\n",
    "    except:\n",
    "        return None\n",
    "    if idx > 1000:\n",
    "        break"
   ],
   "metadata": {
    "collapsed": false,
    "pycharm": {
     "name": "#%%\n"
    }
   }
  },
  {
   "cell_type": "code",
   "execution_count": null,
   "outputs": [],
   "source": [
    "processed_data.info()"
   ],
   "metadata": {
    "collapsed": false,
    "pycharm": {
     "name": "#%%\n"
    }
   }
  },
  {
   "cell_type": "code",
   "execution_count": null,
   "outputs": [],
   "source": [
    "processed_data"
   ],
   "metadata": {
    "collapsed": false,
    "pycharm": {
     "name": "#%%\n"
    }
   }
  },
  {
   "cell_type": "code",
   "execution_count": null,
   "outputs": [],
   "source": [],
   "metadata": {
    "collapsed": false,
    "pycharm": {
     "name": "#%%\n"
    }
   }
  }
 ],
 "metadata": {
  "kernelspec": {
   "display_name": "Python 3",
   "language": "python",
   "name": "python3"
  },
  "language_info": {
   "codemirror_mode": {
    "name": "ipython",
    "version": 2
   },
   "file_extension": ".py",
   "mimetype": "text/x-python",
   "name": "python",
   "nbconvert_exporter": "python",
   "pygments_lexer": "ipython2",
   "version": "2.7.6"
  }
 },
 "nbformat": 4,
 "nbformat_minor": 0
}