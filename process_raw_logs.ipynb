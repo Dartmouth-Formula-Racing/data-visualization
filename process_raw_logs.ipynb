{
 "cells": [
  {
   "cell_type": "code",
   "execution_count": 1,
   "metadata": {
    "collapsed": true,
    "pycharm": {
     "name": "#%%\n"
    }
   },
   "outputs": [],
   "source": [
    "with open(\"raw_logs/files.txt\", \"r\") as file:\n",
    "    filenames = file.readlines()"
   ]
  },
  {
   "cell_type": "code",
   "execution_count": 2,
   "outputs": [],
   "source": [
    "filenames = list(map(str.strip, filenames))\n",
    "filenames = list(filter(lambda x: x[0] == 'D', filenames))"
   ],
   "metadata": {
    "collapsed": false,
    "pycharm": {
     "name": "#%%\n"
    }
   }
  },
  {
   "cell_type": "code",
   "execution_count": 3,
   "outputs": [],
   "source": [
    "import pandas as pd\n",
    "\n",
    "files = pd.DataFrame(columns=[\"name\", \"time\", \"num_records\", \"min_time_offset\", \"max_time_offset\"])\n",
    "records_columns = [\n",
    "    \"time\",\n",
    "    \"type\",\n",
    "    \"id\",\n",
    "    \"dlc\",\n",
    "    \"data0\",\n",
    "    \"data1\",\n",
    "    \"data2\",\n",
    "    \"data3\",\n",
    "    \"data4\",\n",
    "    \"data5\",\n",
    "    \"data6\",\n",
    "    \"data7\",\n",
    "    \"filename\"\n",
    "]\n",
    "records = pd.DataFrame(columns=records_columns)\n",
    "files_list = list()\n",
    "records_dfs = list()"
   ],
   "metadata": {
    "collapsed": false,
    "pycharm": {
     "name": "#%%\n"
    }
   }
  },
  {
   "cell_type": "code",
   "execution_count": 4,
   "outputs": [],
   "source": [
    "\n",
    "from datetime import datetime, timedelta\n",
    "\n",
    "\n",
    "def extractDateInfo(rawtime):\n",
    "    days = timedelta(days=rawtime)\n",
    "    date = datetime(year=1899, month=12, day=30) + days\n",
    "    return pd.to_datetime(pd.Series({\n",
    "        \"year\": date.year,\n",
    "        \"month\": date.month,\n",
    "        \"day\": date.day,\n",
    "        \"hour\": date.hour,\n",
    "        \"minute\": date.minute,\n",
    "        \"second\": date.second,\n",
    "        \"microsecond\": date.microsecond,\n",
    "\n",
    "    }))\n"
   ],
   "metadata": {
    "collapsed": false,
    "pycharm": {
     "name": "#%%\n"
    }
   }
  },
  {
   "cell_type": "code",
   "execution_count": 5,
   "outputs": [
    {
     "data": {
      "text/plain": "  0%|          | 0/39 [00:00<?, ?it/s]",
      "application/vnd.jupyter.widget-view+json": {
       "version_major": 2,
       "version_minor": 0,
       "model_id": "46b706eeca6f4dbd94c4c10cf72d0af7"
      }
     },
     "metadata": {},
     "output_type": "display_data"
    }
   ],
   "source": [
    "from tqdm.notebook import tqdm\n",
    "\n",
    "for filename in tqdm(filenames):\n",
    "    with open(f\"raw_logs/{filename}\", \"r\") as file:\n",
    "        lines = file.readlines()\n",
    "    startTime = float(lines[1][12:])\n",
    "    records = []\n",
    "    for line in lines[14:]:\n",
    "        records.append(list(filter(lambda x: x != \"\" and x != \"\\n\", line.split(\" \")))[1:] + [filename])\n",
    "    tmp = pd.DataFrame.from_records(records, columns=records_columns)\n",
    "    tmp[\"rawtime\"] = (tmp[\"time\"].astype(float) / (1000 * 60 * 60 * 24)) + startTime\n",
    "    dates = pd.DataFrame.from_records(tmp[\"rawtime\"].map(extractDateInfo))\n",
    "    tmp = pd.merge(tmp, dates, left_index=True, right_index=True)\n",
    "    records_dfs.append(tmp)\n",
    "    files_list.append([filename, startTime, len(records), tmp[\"time\"].min(), tmp[\"time\"].max()])\n",
    "records = pd.concat(records_dfs)"
   ],
   "metadata": {
    "collapsed": false,
    "pycharm": {
     "name": "#%%\n"
    }
   }
  },
  {
   "cell_type": "code",
   "execution_count": 6,
   "outputs": [],
   "source": [
    "records.to_csv(\"records.csv\")"
   ],
   "metadata": {
    "collapsed": false,
    "pycharm": {
     "name": "#%%\n"
    }
   }
  },
  {
   "cell_type": "code",
   "execution_count": 7,
   "outputs": [
    {
     "data": {
      "text/plain": "3502594"
     },
     "execution_count": 7,
     "metadata": {},
     "output_type": "execute_result"
    }
   ],
   "source": [
    "len(records)"
   ],
   "metadata": {
    "collapsed": false,
    "pycharm": {
     "name": "#%%\n"
    }
   }
  },
  {
   "cell_type": "code",
   "execution_count": null,
   "outputs": [],
   "source": [],
   "metadata": {
    "collapsed": false,
    "pycharm": {
     "name": "#%%\n"
    }
   }
  }
 ],
 "metadata": {
  "kernelspec": {
   "display_name": "Python 3",
   "language": "python",
   "name": "python3"
  },
  "language_info": {
   "codemirror_mode": {
    "name": "ipython",
    "version": 2
   },
   "file_extension": ".py",
   "mimetype": "text/x-python",
   "name": "python",
   "nbconvert_exporter": "python",
   "pygments_lexer": "ipython2",
   "version": "2.7.6"
  }
 },
 "nbformat": 4,
 "nbformat_minor": 0
}